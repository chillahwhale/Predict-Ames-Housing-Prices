{
 "cells": [
  {
   "cell_type": "markdown",
   "metadata": {},
   "source": [
    "# Modeling\n",
    "## Ames Housing Data \n",
    "\n",
    "This is the second of two notebooks for the Ames Housing data project. Here, I look at various linear regression models and examine feature combinations that minimize root mean squared error (RMSE) and Mean Absolute Error (MAE), as well as increase R2 scores, when it comes to predicting `SalesPrice`.\n",
    "\n",
    "\n",
    "This notebook contains 4 models. For each model, I've consolidated the code and print statements into two cells in order make the code more readable. Beneath each model is an interpretation of the scores.\n",
    "\n",
    "Note that the models progressively increase in both complexity and how well they perform. This is deliberate and intended to show the development and refinement of my approach. "
   ]
  },
  {
   "cell_type": "markdown",
   "metadata": {},
   "source": [
    "# Contents\n",
    "- [Import Libraries and Datasets](#Import-Libraries-and-Datasets)\n",
    "- [Model 0: Baseline Score](#Baseline-Score)\n",
    "- [Model 1: Increasing Number of Features](#Increasing-Number-of-Features)\n",
    "- [Model 2: Introduce Log of y](#Introduce-Log-of-y)\n",
    "- [Model 3: Stretch Model](#Stretch-Model)\n",
    "- [Conclusions](#Conclusions)"
   ]
  },
  {
   "cell_type": "markdown",
   "metadata": {},
   "source": [
    "# Import Libraries and Datasets"
   ]
  },
  {
   "cell_type": "code",
   "execution_count": 1,
   "metadata": {},
   "outputs": [],
   "source": [
    "import numpy as np\n",
    "import pandas as pd\n",
    "import seaborn as sns\n",
    "import matplotlib.pyplot as plt\n",
    "import missingno as msno\n",
    "\n",
    "from sklearn.linear_model import LinearRegression, Lasso, LassoCV\n",
    "from sklearn.model_selection import train_test_split, cross_val_score\n",
    "from sklearn.metrics import r2_score, mean_squared_error\n",
    "from sklearn.preprocessing import StandardScaler\n",
    "from math import sqrt\n",
    "\n",
    "from scipy import stats\n",
    "import statsmodels.api as sm\n",
    "\n",
    "%matplotlib inline\n",
    "\n",
    "train = pd.read_csv('./datasets/train_processed.csv')\n",
    "test = pd.read_csv('./datasets/test_processed.csv')"
   ]
  },
  {
   "cell_type": "markdown",
   "metadata": {},
   "source": [
    "### First, let's get reacquainted with the data and revisit the problem statement."
   ]
  },
  {
   "cell_type": "code",
   "execution_count": 2,
   "metadata": {},
   "outputs": [
    {
     "name": "stdout",
     "output_type": "stream",
     "text": [
      "train shape: (2049, 304)\n",
      "test shape: (878, 286)\n"
     ]
    }
   ],
   "source": [
    "# view shapes\n",
    "print('train shape:',(train.shape))\n",
    "print('test shape:',(test.shape))"
   ]
  },
  {
   "cell_type": "code",
   "execution_count": 3,
   "metadata": {},
   "outputs": [
    {
     "data": {
      "text/plain": [
       "SalePrice               1.000000\n",
       "Overall Qual            0.803462\n",
       "Gr Liv Area             0.719463\n",
       "Total Bsmt SF           0.665116\n",
       "Garage Area             0.655097\n",
       "1st Flr SF              0.648252\n",
       "Garage Cars             0.648227\n",
       "Bsmt Qual_Ex            0.589810\n",
       "Year Built              0.572405\n",
       "Kitchen Qual_Ex         0.555131\n",
       "Year Remod/Add          0.550872\n",
       "Full Bath               0.538225\n",
       "Foundation_PConc        0.529500\n",
       "Mas Vnr Area            0.511273\n",
       "TotRms AbvGrd           0.509775\n",
       "Exter Qual_Ex           0.500425\n",
       "Fireplaces              0.473783\n",
       "BsmtFin Type 1_GLQ      0.464266\n",
       "Heating QC_Ex           0.453582\n",
       "Neighborhood_NridgHt    0.448639\n",
       "Exter Qual_Gd           0.446721\n",
       "BsmtFin SF 1            0.446103\n",
       "Garage Finish_Fin       0.423776\n",
       "Fireplace Qu_Gd         0.385490\n",
       "Bsmt Exposure_Gd        0.379081\n",
       "Sale Type_New           0.360599\n",
       "Garage Type_Attchd      0.358104\n",
       "Exterior 1st_VinylSd    0.342156\n",
       "Open Porch SF           0.338545\n",
       "Lot Frontage            0.338280\n",
       "Exterior 2nd_VinylSd    0.337571\n",
       "Wood Deck SF            0.327629\n",
       "Mas Vnr Type_Stone      0.312137\n",
       "Kitchen Qual_Gd         0.306253\n",
       "Lot Area                0.303744\n",
       "Paved Drive_Y           0.289267\n",
       "Bsmt Full Bath          0.284433\n",
       "Half Bath               0.283372\n",
       "Central Air_Y           0.277425\n",
       "Lot Shape_IR1           0.273630\n",
       "Garage Cond_TA          0.271901\n",
       "Roof Style_Hip          0.266010\n",
       "Neighborhood_NoRidge    0.263385\n",
       "Garage Yr Blt           0.258697\n",
       "Mas Vnr Type_BrkFace    0.257884\n",
       "Neighborhood_StoneBr    0.256968\n",
       "Electrical_SBrkr        0.254098\n",
       "Garage Qual_TA          0.249833\n",
       "2nd Flr SF              0.248826\n",
       "Fireplace Qu_Ex         0.234517\n",
       "MS Zoning_RL            0.231567\n",
       "Bsmt Qual_Gd            0.226820\n",
       "Garage Type_BuiltIn     0.219800\n",
       "Land Contour_HLS        0.212229\n",
       "House Style_2Story      0.202270\n",
       "Bsmt Unf SF             0.190883\n",
       "Garage Finish_RFn       0.184559\n",
       "Fence_None              0.181840\n",
       "Exterior 1st_CemntBd    0.168318\n",
       "Lot Config_CulDSac      0.162408\n",
       "Exterior 2nd_CmentBd    0.157748\n",
       "Neighborhood_Somerst    0.150056\n",
       "Fireplace Qu_TA         0.147046\n",
       "Bedroom AbvGr           0.137145\n",
       "Alley_None              0.135093\n",
       "Screen Porch            0.134555\n",
       "Bsmt Exposure_Av        0.126425\n",
       "Exter Cond_TA           0.122072\n",
       "Functional_Typ          0.117719\n",
       "Neighborhood_Timber     0.116385\n",
       "Bsmt Cond_Gd            0.114213\n",
       "BsmtFin Type 2_Unf      0.113998\n",
       "Condition 1_Norm        0.111199\n",
       "Lot Shape_IR2           0.109934\n",
       "Condition 1_PosN        0.106866\n",
       "MS Zoning_FV            0.106673\n",
       "Bldg Type_1Fam          0.105771\n",
       "Condition 2_PosN        0.103456\n",
       "Condition 2_PosA        0.101041\n",
       "Roof Matl_WdShngl       0.098523\n",
       "Garage Qual_Gd          0.096794\n",
       "Heating_GasA            0.094045\n",
       "Bsmt Cond_TA            0.093682\n",
       "Neighborhood_Veenker    0.083177\n",
       "Neighborhood_CollgCr    0.082278\n",
       "Condition 1_PosA        0.070922\n",
       "Street_Pave             0.069850\n",
       "Bldg Type_TwnhsE        0.062007\n",
       "Land Slope_Mod          0.061888\n",
       "Neighborhood_Crawfor    0.058365\n",
       "BsmtFin Type 2_GLQ      0.053519\n",
       "Neighborhood_ClearCr    0.052491\n",
       "Misc Feature_None       0.048937\n",
       "3Ssn Porch              0.048721\n",
       "Roof Matl_WdShake       0.046176\n",
       "Exterior 2nd_ImStucc    0.042623\n",
       "House Style_2.5Fin      0.042511\n",
       "Exter Cond_Ex           0.040461\n",
       "Neighborhood_GrnHill    0.038845\n",
       "Pool QC_Ex              0.037217\n",
       "Neighborhood_NWAmes     0.034903\n",
       "Sale Type_Con           0.033656\n",
       "Utilities_AllPub        0.033087\n",
       "Land Contour_Low        0.032936\n",
       "Mo Sold                 0.032508\n",
       "Exterior 1st_Stone      0.030368\n",
       "Bsmt Exposure_Mn        0.029290\n",
       "Garage Qual_Ex          0.028750\n",
       "Garage Cond_Gd          0.026675\n",
       "Exterior 1st_BrkFace    0.026220\n",
       "Pool QC_Gd              0.026008\n",
       "Pool Area               0.025805\n",
       "Neighborhood_Blmngtn    0.024888\n",
       "Neighborhood_Gilbert    0.023946\n",
       "Exterior 1st_ImStucc    0.022444\n",
       "Sale Type_ConLI         0.019582\n",
       "Misc Feature_TenC       0.019099\n",
       "Roof Matl_Membran       0.016730\n",
       "Neighborhood_SawyerW    0.016684\n",
       "BsmtFin SF 2            0.016398\n",
       "Lot Config_FR3          0.014345\n",
       "Pool QC_Fa              0.013414\n",
       "Roof Style_Shed         0.013132\n",
       "Lot Shape_IR3           0.012518\n",
       "BsmtFin Type 2_ALQ      0.011787\n",
       "Land Slope_Sev          0.011589\n",
       "Condition 1_RRNn        0.011436\n",
       "House Style_2.5Unf      0.010783\n",
       "Exterior 2nd_BrkFace    0.010673\n",
       "Roof Style_Flat         0.010215\n",
       "Roof Matl_Tar&Grv       0.007008\n",
       "Bsmt Cond_Ex            0.006531\n",
       "Sale Type_CWD           0.004555\n",
       "Neighborhood_Greens     0.003472\n",
       "Condition 2_RRAe        0.002375\n",
       "Foundation_Wood        -0.003047\n",
       "Lot Config_Corner      -0.004499\n",
       "Misc Feature_Othr      -0.008845\n",
       "Condition 2_Norm       -0.009746\n",
       "Misc Val               -0.010323\n",
       "Fence_GdPrv            -0.011661\n",
       "Utilities_NoSeWa       -0.012258\n",
       "Neighborhood_Landmrk   -0.012398\n",
       "Condition 2_RRAn       -0.012424\n",
       "Alley_Pave             -0.014548\n",
       "Lot Config_FR2         -0.014844\n",
       "Condition 1_RRAn       -0.014970\n",
       "Yr Sold                -0.015174\n",
       "Pool QC_TA             -0.015763\n",
       "Functional_Maj1        -0.017788\n",
       "Misc Feature_Gar2      -0.019514\n",
       "Roof Style_Mansard     -0.021297\n",
       "House Style_1Story     -0.021813\n",
       "Heating_OthW           -0.021973\n",
       "Garage Cond_Ex         -0.022663\n",
       "Exterior 2nd_AsphShn   -0.023839\n",
       "Foundation_Stone       -0.023859\n",
       "Fireplace Qu_Fa        -0.024308\n",
       "Exterior 1st_BrkComm   -0.024382\n",
       "Exterior 2nd_Stone     -0.024649\n",
       "Condition 1_RRNe       -0.025050\n",
       "Neighborhood_Blueste   -0.025233\n",
       "Bsmt Qual_Po           -0.025777\n",
       "Exterior 1st_AsphShn   -0.027624\n",
       "Pool QC_None           -0.027950\n",
       "Garage Type_2Types     -0.029648\n",
       "Sale Type_Oth          -0.030115\n",
       "Electrical_Mix         -0.031909\n",
       "Condition 2_RRNn       -0.033407\n",
       "Functional_Sev         -0.033802\n",
       "MS Zoning_RH           -0.034128\n",
       "MS Zoning_I (all)      -0.034522\n",
       "Utilities_NoSewr       -0.034522\n",
       "Exterior 1st_CBlock    -0.034787\n",
       "Exterior 2nd_CBlock    -0.035280\n",
       "Sale Type_ConLw        -0.035486\n",
       "Neighborhood_Mitchel   -0.035599\n",
       "Bsmt Cond_Po           -0.035820\n",
       "Mas Vnr Type_BrkCmn    -0.037257\n",
       "Heating_GasW           -0.037826\n",
       "Condition 2_Artery     -0.038948\n",
       "Exterior 1st_Plywood   -0.039161\n",
       "Fence_MnWw             -0.040913\n",
       "Low Qual Fin SF        -0.041608\n",
       "Roof Style_Gambrel     -0.041893\n",
       "BsmtFin Type 2_LwQ     -0.042052\n",
       "House Style_SLvl       -0.042126\n",
       "BsmtFin Type 2_Rec     -0.043072\n",
       "Bsmt Half Bath         -0.045534\n",
       "Garage Qual_Po         -0.045926\n",
       "Neighborhood_NPkVill   -0.047307\n",
       "Misc Feature_Shed      -0.047440\n",
       "Exterior 2nd_Brk Cmn   -0.047905\n",
       "Condition 2_Feedr      -0.048465\n",
       "BsmtFin Type 2_BLQ     -0.048490\n",
       "Exterior 1st_WdShing   -0.048885\n",
       "Functional_Min1        -0.049358\n",
       "Functional_Mod         -0.050436\n",
       "Id                     -0.051416\n",
       "Exterior 2nd_Stucco    -0.051655\n",
       "MS Zoning_A (agr)      -0.052905\n",
       "Condition 1_RRAe       -0.053646\n",
       "Exter Cond_Po          -0.053891\n",
       "Heating QC_Po          -0.054313\n",
       "Garage Type_Basment    -0.055735\n",
       "Functional_Min2        -0.056667\n",
       "Functional_Sal         -0.059115\n",
       "Exterior 2nd_Plywood   -0.059582\n",
       "Exter Cond_Gd          -0.059843\n",
       "Sale Type_ConLD        -0.060443\n",
       "Exterior 1st_Stucco    -0.060842\n",
       "Exterior 2nd_Wd Shng   -0.061187\n",
       "Land Slope_Gtl         -0.062580\n",
       "House Style_SFoyer     -0.064108\n",
       "Fireplace Qu_Po        -0.066000\n",
       "House Style_1.5Unf     -0.066815\n",
       "Functional_Maj2        -0.069660\n",
       "Street_Grvl            -0.069850\n",
       "Heating_Wall           -0.071318\n",
       "Roof Matl_CompShg      -0.071652\n",
       "Garage Type_CarPort    -0.071965\n",
       "Garage Cond_Po         -0.072303\n",
       "Electrical_FuseP       -0.072372\n",
       "Heating_Grav           -0.072556\n",
       "Neighborhood_SWISU     -0.074230\n",
       "BsmtFin Type 1_LwQ     -0.081453\n",
       "Lot Config_Inside      -0.082485\n",
       "MS SubClass            -0.087331\n",
       "BsmtFin Type 1_ALQ     -0.088166\n",
       "Paved Drive_P          -0.090761\n",
       "Land Contour_Lvl       -0.093587\n",
       "Neighborhood_BrDale    -0.095319\n",
       "Overall Cond           -0.097093\n",
       "Land Contour_Bnk       -0.098756\n",
       "Fence_GdWo             -0.101653\n",
       "Exterior 2nd_HdBoard   -0.102518\n",
       "Bldg Type_Duplex       -0.103716\n",
       "Sale Type_COD          -0.107625\n",
       "Exterior 2nd_AsbShng   -0.110420\n",
       "Bldg Type_2fmCon       -0.111444\n",
       "Neighborhood_MeadowV   -0.111573\n",
       "Bldg Type_Twnhs        -0.113921\n",
       "Condition 1_Feedr      -0.114290\n",
       "Exterior 1st_HdBoard   -0.114392\n",
       "Heating QC_Gd          -0.115401\n",
       "Foundation_Slab        -0.119070\n",
       "BsmtFin Type 1_Unf     -0.124823\n",
       "Condition 1_Artery     -0.125057\n",
       "Kitchen AbvGr          -0.125472\n",
       "MS Zoning_C (all)      -0.126267\n",
       "Exterior 1st_AsbShng   -0.126359\n",
       "Electrical_FuseF       -0.129372\n",
       "BsmtFin Type 1_BLQ     -0.130150\n",
       "Exter Qual_Fa          -0.131102\n",
       "Neighborhood_Sawyer    -0.133726\n",
       "Neighborhood_BrkSide   -0.134818\n",
       "Enclosed Porch         -0.135713\n",
       "Exterior 2nd_MetalSd   -0.139405\n",
       "Garage Cond_Fa         -0.143198\n",
       "Bsmt Cond_Fa           -0.143498\n",
       "Heating QC_Fa          -0.149254\n",
       "Exterior 1st_MetalSd   -0.149919\n",
       "Bsmt Exposure_None     -0.150369\n",
       "Fence_MnPrv            -0.150496\n",
       "BsmtFin Type 1_Rec     -0.150961\n",
       "BsmtFin Type 2_None    -0.152166\n",
       "Kitchen Qual_Fa        -0.154897\n",
       "Exter Cond_Fa          -0.155922\n",
       "BsmtFin Type 1_None    -0.157410\n",
       "Bsmt Cond_None         -0.157410\n",
       "Bsmt Qual_None         -0.157410\n",
       "Alley_Grvl             -0.159139\n",
       "Bsmt Qual_Fa           -0.161525\n",
       "Garage Qual_Fa         -0.168164\n",
       "Exterior 2nd_Wd Sdng   -0.173032\n",
       "Neighborhood_Edwards   -0.176848\n",
       "Neighborhood_IDOTRR    -0.189266\n",
       "Neighborhood_NAmes     -0.189456\n",
       "Exterior 1st_Wd Sdng   -0.191799\n",
       "House Style_1.5Fin     -0.195858\n",
       "Electrical_FuseA       -0.201249\n",
       "Neighborhood_OldTown   -0.208418\n",
       "Sale Type_WD           -0.213536\n",
       "Foundation_BrkTil      -0.229950\n",
       "Garage Cond_None       -0.230894\n",
       "Garage Finish_None     -0.230894\n",
       "Garage Qual_None       -0.230894\n",
       "Garage Type_None       -0.231030\n",
       "Roof Style_Gable       -0.250019\n",
       "PID                    -0.255068\n",
       "Paved Drive_N          -0.273661\n",
       "Central Air_N          -0.277425\n",
       "MS Zoning_RM           -0.282032\n",
       "Bsmt Exposure_No       -0.293542\n",
       "Lot Shape_Reg          -0.306707\n",
       "Heating QC_TA          -0.343692\n",
       "Foundation_CBlock      -0.355768\n",
       "Garage Type_Detchd     -0.370485\n",
       "Mas Vnr Type_None      -0.411630\n",
       "Garage Finish_Unf      -0.432476\n",
       "Bsmt Qual_TA           -0.457260\n",
       "Fireplace Qu_None      -0.486208\n",
       "Kitchen Qual_TA        -0.541265\n",
       "Exter Qual_TA          -0.600974\n",
       "Name: SalePrice, dtype: float64"
      ]
     },
     "execution_count": 3,
     "metadata": {},
     "output_type": "execute_result"
    }
   ],
   "source": [
    "# view feature correlations\n",
    "pd.set_option('display.max_rows', 305)\n",
    "train.corr().SalePrice.sort_values(ascending=False)"
   ]
  },
  {
   "cell_type": "markdown",
   "metadata": {},
   "source": [
    "### Problem Statement:\n",
    "*Create a regression model based on the Ames Housing Dataset that predicts the price of a house at sale.*\n",
    "\n",
    "With that in mind, we'll start to model."
   ]
  },
  {
   "cell_type": "markdown",
   "metadata": {},
   "source": [
    "# Baseline score\n",
    "**Model 0:** First, I'll calculate a baseline score on a basic model using the top 2 features positively correlated to `SalePrice`. "
   ]
  },
  {
   "cell_type": "code",
   "execution_count": 4,
   "metadata": {},
   "outputs": [
    {
     "name": "stdout",
     "output_type": "stream",
     "text": [
      "RMSE 39513.14132862921\n",
      "\n",
      "MAE 28585.646485026253\n",
      "\n",
      "cross val r2 0.7421838494662962\n",
      "train score r2 0.7477165023413908\n",
      "test r2 0.7530433334607132\n",
      "\n",
      "coef [   63.74405567 32104.71386231]\n",
      "inter -109592.99904293506\n"
     ]
    }
   ],
   "source": [
    "# create feature matrix (X) and target vector(y)\n",
    "X0 = train[['Gr Liv Area', 'Overall Qual']]\n",
    "y = train['SalePrice']\n",
    "\n",
    "# train/test split\n",
    "X0_train, X0_test, y0_train, y0_test = train_test_split(X0, y, random_state=42) \n",
    "\n",
    "# instantiate and fit model\n",
    "lr0 = LinearRegression()\n",
    "lr0.fit(X0_train, y0_train)\n",
    "\n",
    "# calculate predictions and MSE \n",
    "preds0 = lr0.predict(X0_test)\n",
    "resids0 = y0_test - preds0\n",
    "mse0 = mean_squared_error(y0_test, preds0)\n",
    "\n",
    "# print regression metrics\n",
    "print('RMSE', np.sqrt(mse0))\n",
    "print('')\n",
    "print('MAE', (np.mean(np.abs(resids0))))\n",
    "print('')\n",
    "print('cross val r2', cross_val_score(lr0, X0_train, y0_train, cv=5).mean())\n",
    "print('train score r2', lr0.score(X0_train, y0_train))\n",
    "print('test r2', lr0.score(X0_test, y0_test))\n",
    "print('')\n",
    "print('coef',lr0.coef_)\n",
    "print('inter',lr0.intercept_)"
   ]
  },
  {
   "cell_type": "markdown",
   "metadata": {},
   "source": [
    "### Interpretation:\n",
    "- *I will include a more detailed interpretation of metrics here. Moving forward, I will assess the regression metrics relative to metrics from other models.*\n",
    "- RMSE tells us that the square root of our average squared error is 39,513 USD. Considering the mean sale price of a home in the train data set 181,480 USD, this isn't a RMSE to get too excited about.\n",
    "    - *NOTE: I will not be interpreting coefficients and intercepts moving forward due to the volume of features in following models.*\n",
    "- That said, our model is well-fitted considering the R2 scores are all relatively close to one another. Typically, an R2 score of ~0.745 is decent, however, when we consider the RMSE relative to sale price, we know there's room for improvement.\n",
    "- Our MAE tells us that, on average, our predictions are off by 28,585 USD. Again, considering the mean price of a home is 181,480 USD, this is not an MAE I'd feel comfortable settling with.\n",
    "- Finally, our coefficients tell us that, all else held equal, we can expect home prices to increase 64 USD and 32,104 USD for every unit increase, respectively, in `Gr Liv Area` and `Overall Qual`\n",
    "    - `Gr Liv Area` is above ground living area square feet.\n",
    "    - `Overall Qual` rates the overall material and finish of the house. It is measured on a scale from 1-10 with 1 being very poor and 10 being very excellent.\n",
    "\n",
    "- We're off to a good start but our model can definitely use plenty of fine tuning."
   ]
  },
  {
   "cell_type": "markdown",
   "metadata": {},
   "source": [
    "# Increasing Number of Features\n",
    "**Model 1:** The features included in this model are a result of trial and error feature combination. I took various combinations of the top 15 positively and negatively correlated features to `SalePrice` and took the best RMSE. "
   ]
  },
  {
   "cell_type": "code",
   "execution_count": 5,
   "metadata": {},
   "outputs": [
    {
     "name": "stdout",
     "output_type": "stream",
     "text": [
      "RMSE 32300.18475429842\n",
      "\n",
      "MAE SalePrice    23784.448143\n",
      "dtype: float64\n",
      "\n",
      "cross val r2 0.8121741733881803\n",
      "train score r2 0.8200235125782036\n",
      "test r2 0.8349757941007054\n"
     ]
    }
   ],
   "source": [
    "# instanstiate, fit\n",
    "X1 = train[['Overall Qual', \n",
    "             'Garage Area', \n",
    "             '1st Flr SF', \n",
    "             'MS SubClass', \n",
    "             'Lot Frontage', \n",
    "             'Year Built',\n",
    "             'Year Remod/Add',\n",
    "             'Full Bath',\n",
    "             'TotRms AbvGrd',\n",
    "             'Fireplaces',\n",
    "             'Heating QC_Ex',\n",
    "             'Neighborhood_NridgHt',\n",
    "             'Exter Qual_TA',\n",
    "             'Open Porch SF',\n",
    "             'Wood Deck SF',\n",
    "             'Central Air_Y'\n",
    "            ]]\n",
    "\n",
    "y = train[['SalePrice']]\n",
    "           \n",
    "X_train1, X_test1, y_train1, y_test1 = train_test_split(X1, y, random_state=42)  \n",
    "               \n",
    "lr1 = LinearRegression()\n",
    "lr1.fit(X_train1, y_train1)\n",
    "\n",
    "preds1 = lr1.predict(X_test1)\n",
    "resids1 = y_test1 - preds1\n",
    "mse1 = mean_squared_error(y_test1, preds1)\n",
    "\n",
    "print('RMSE', np.sqrt(mse1))\n",
    "print('')\n",
    "print('MAE', (np.mean(np.abs(resids1))))\n",
    "print('')\n",
    "print('cross val r2', cross_val_score(lr1, X_train1, y_train1, cv=5).mean())\n",
    "print('train score r2', lr1.score(X_train1, y_train1))\n",
    "print('test r2', lr1.score(X_test1, y_test1))"
   ]
  },
  {
   "cell_type": "markdown",
   "metadata": {},
   "source": [
    "### Interpretation:\n",
    "- Here, we see an increase in scores across the board.\n",
    "- One thing that's particularly interesting to note is that negative correlations, such as `Exter Qual_TA`, which is an exterior rating of typical/average, help to increase our RMSE and R2 scores.\n",
    "- Similar to last model, we can tell that our model is well-fit (i.e., a good balance between bias and variance) due to the relative consistency between our R2 scores.\n",
    "- Using these same features, let's try taking the log of y in our next model."
   ]
  },
  {
   "cell_type": "markdown",
   "metadata": {},
   "source": [
    "# Introduce Log of y\n",
    "**Model 2:** In this model, I'm interested in see how the log of `SalePrice` will affect our regression metrics. I will keep the features consistent with Model 1, but will re-fit our model with the log of `SalePrice`. Since I am keeping the features consistent with Model 1, I will use the same variables when taking logs."
   ]
  },
  {
   "cell_type": "code",
   "execution_count": 6,
   "metadata": {},
   "outputs": [],
   "source": [
    "# take log of y\n",
    "y_train1_log = np.log(y_train1)\n",
    "y_test1_log = np.log(y_test1)"
   ]
  },
  {
   "cell_type": "code",
   "execution_count": 7,
   "metadata": {},
   "outputs": [
    {
     "data": {
      "text/plain": [
       "LinearRegression(copy_X=True, fit_intercept=True, n_jobs=None,\n",
       "         normalize=False)"
      ]
     },
     "execution_count": 7,
     "metadata": {},
     "output_type": "execute_result"
    }
   ],
   "source": [
    "# fit with log\n",
    "lr1.fit(X_train1, y_train1_log)"
   ]
  },
  {
   "cell_type": "code",
   "execution_count": 8,
   "metadata": {},
   "outputs": [],
   "source": [
    "preds = lr1.predict(X_test1) # logarithms\n",
    "resids_log = y_test1_log - preds\n",
    "resids_exp =  np.exp(y_test1_log) - np.exp(preds)\n",
    "mse1_log = mean_squared_error(y_test1, np.exp(preds))"
   ]
  },
  {
   "cell_type": "code",
   "execution_count": 9,
   "metadata": {},
   "outputs": [
    {
     "name": "stdout",
     "output_type": "stream",
     "text": [
      "RMSE 26801.819856406357\n",
      "\n",
      "MAE SalePrice    19521.342209\n",
      "dtype: float64\n",
      "\n",
      "cross val r2 score: 0.8508212473920175\n",
      "train log r2 score: 0.8566111838871895\n",
      "test log r2 score: 0.8403108089449278\n"
     ]
    }
   ],
   "source": [
    "print('RMSE', np.sqrt(mse1_log))\n",
    "print('')\n",
    "print('MAE', (np.mean(np.abs(resids_exp))))\n",
    "print('')\n",
    "print(f'cross val r2 score: {cross_val_score(lr1, X_train1, y_train1_log, cv=5).mean()}')\n",
    "print(f'train log r2 score: {lr1.score(X_train1, y_train1_log)}')\n",
    "print(f'test log r2 score: {lr1.score(X_test1, y_test1_log)}')"
   ]
  },
  {
   "cell_type": "markdown",
   "metadata": {},
   "source": [
    "### Interpretation:\n",
    "- By taking the log of y we see a clear improvement from model 1 in all of our metrics. RMSE decreased by ~5,500 and MAE decreased by ~5,300. \n",
    "- Moreover, each of the R2 scores increased slightly while maintaining relative consistency. This suggests that the model continues to be well fit.\n",
    "- *NOTE: this is the model that I submitted to the Kaggle competition.*"
   ]
  },
  {
   "cell_type": "markdown",
   "metadata": {},
   "source": [
    "# Stretch Model\n",
    "**Model 3:** I call this my stretch model because I wasn't able to submit it to the Kaggle competition due to time constraints. I came up with it at the 11th hour and did not have bandwidth to figure out how to adjust my test variables so as to fit the training model. Still, I wanted to include the model here should I come back to revisit this work."
   ]
  },
  {
   "cell_type": "code",
   "execution_count": 10,
   "metadata": {},
   "outputs": [],
   "source": [
    "# create feature matrix (X) and target vector(y)\n",
    "X3 = train._get_numeric_data().drop(columns=['SalePrice'])\n",
    "features = list(X3.columns)\n",
    "y = train['SalePrice']\n",
    "\n",
    "# train/test split\n",
    "X3_train, X3_test, y3_train, y3_test = train_test_split(X3, y, random_state=42)\n",
    "\n",
    "# instantiate and fit model\n",
    "lr3 = LinearRegression()\n",
    "lr3.fit(X3_train, y3_train)\n",
    "\n",
    "# calculate predictions and MSE \n",
    "preds3 = lr3.predict(X3_test)\n",
    "resids3 = y3_test - preds3\n",
    "mse3 = mean_squared_error(y3_test, preds3)"
   ]
  },
  {
   "cell_type": "code",
   "execution_count": 11,
   "metadata": {},
   "outputs": [
    {
     "name": "stdout",
     "output_type": "stream",
     "text": [
      "RMSE 20823.39529228111\n",
      "\n",
      "MAE 15109.988257625359\n",
      "\n",
      "cross val r2 0.8999863711370437\n",
      "train score r2 0.9428608043240398\n",
      "test r2 0.9314131708210244\n"
     ]
    }
   ],
   "source": [
    "# print regression metrics\n",
    "print('RMSE', np.sqrt(mse3))\n",
    "print('')\n",
    "print('MAE', (np.mean(np.abs(resids3))))\n",
    "print('')\n",
    "print('cross val r2', cross_val_score(lr3, X3_train, y3_train, cv=5).mean())\n",
    "print('train score r2', lr3.score(X3_train, y3_train))\n",
    "print('test r2', lr3.score(X3_test, y3_test))"
   ]
  },
  {
   "cell_type": "markdown",
   "metadata": {},
   "source": [
    "### Interpretation and elaboration:\n",
    "- As is clear, this is by far and away the best model yet. The RMSE is ~6,000 less than that of model 2 and MAE ~4,400 less. What's R2 scores are also better than those scores in other models.\n",
    "- Consistent with the other models, this stretch model appears well-fit when considering the relative similarity in R2 scores. The improved R2 scores suggest that this model is even better fit.\n",
    "- This model is vastly different than the other models given the number of features it includes (303). Many of these features are dummies created on categorical data in the original training set.\n",
    "- Given more time, I'd like to take a more hypothesis-driven approach to tuning the current features and also to possibly create interaction terms."
   ]
  },
  {
   "cell_type": "markdown",
   "metadata": {},
   "source": [
    "# Conclusions"
   ]
  },
  {
   "cell_type": "markdown",
   "metadata": {},
   "source": [
    "- At a high level, there are two clear themes when it comes to fitting a good MLR model, based on my models. First, taking the log of y, SalePrice, increases the model’s performance by all measures used. We saw this between Model 1 and Model 2. Second, increasing the number of dependent variables is generally a good thing. We observed this between Model 0 to Model 1 as well as Model 2 to Model 3. In the case of the latter, the increase was substantial (from 16 features to 303 features). Certainly, this leaves plenty of room for further investigation and fine tuning.\n",
    "- The features included in Models 2&3 illustrate that it can be important to include both positively and negatively correlated variables. This can be counterintuitive, in that people generally associate positively correlated features to predicting a target y. However, when we get our coefficients on well-chosen negatively correlated features, this can help to decrease residuals.\n",
    "- Given more time, I would have liked to tune Model 3. Techniques would include overfitting then scaling back, further feature engineering such as interaction terms, as well as a more hypothesis-driven approach to curating variables."
   ]
  },
  {
   "cell_type": "code",
   "execution_count": null,
   "metadata": {},
   "outputs": [],
   "source": []
  }
 ],
 "metadata": {
  "kernelspec": {
   "display_name": "Python 3",
   "language": "python",
   "name": "python3"
  },
  "language_info": {
   "codemirror_mode": {
    "name": "ipython",
    "version": 3
   },
   "file_extension": ".py",
   "mimetype": "text/x-python",
   "name": "python",
   "nbconvert_exporter": "python",
   "pygments_lexer": "ipython3",
   "version": "3.7.6"
  }
 },
 "nbformat": 4,
 "nbformat_minor": 4
}
